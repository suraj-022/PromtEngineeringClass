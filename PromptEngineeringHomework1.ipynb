{
  "nbformat": 4,
  "nbformat_minor": 0,
  "metadata": {
    "colab": {
      "provenance": []
    },
    "kernelspec": {
      "name": "python3",
      "display_name": "Python 3"
    },
    "language_info": {
      "name": "python"
    }
  },
  "cells": [
    {
      "cell_type": "code",
      "execution_count": 1,
      "metadata": {
        "id": "cyXE2_fdmfsP",
        "colab": {
          "base_uri": "https://localhost:8080/"
        },
        "outputId": "6d03fcfa-63cc-495c-fca4-7d138773d1e1"
      },
      "outputs": [
        {
          "output_type": "stream",
          "name": "stdout",
          "text": [
            "Collecting langchain\n",
            "  Downloading langchain-0.2.14-py3-none-any.whl.metadata (7.1 kB)\n",
            "Collecting groq\n",
            "  Downloading groq-0.9.0-py3-none-any.whl.metadata (13 kB)\n",
            "Requirement already satisfied: PyYAML>=5.3 in /usr/local/lib/python3.10/dist-packages (from langchain) (6.0.2)\n",
            "Requirement already satisfied: SQLAlchemy<3,>=1.4 in /usr/local/lib/python3.10/dist-packages (from langchain) (2.0.32)\n",
            "Requirement already satisfied: aiohttp<4.0.0,>=3.8.3 in /usr/local/lib/python3.10/dist-packages (from langchain) (3.10.5)\n",
            "Requirement already satisfied: async-timeout<5.0.0,>=4.0.0 in /usr/local/lib/python3.10/dist-packages (from langchain) (4.0.3)\n",
            "Collecting langchain-core<0.3.0,>=0.2.32 (from langchain)\n",
            "  Downloading langchain_core-0.2.35-py3-none-any.whl.metadata (6.2 kB)\n",
            "Collecting langchain-text-splitters<0.3.0,>=0.2.0 (from langchain)\n",
            "  Downloading langchain_text_splitters-0.2.2-py3-none-any.whl.metadata (2.1 kB)\n",
            "Collecting langsmith<0.2.0,>=0.1.17 (from langchain)\n",
            "  Downloading langsmith-0.1.104-py3-none-any.whl.metadata (13 kB)\n",
            "Requirement already satisfied: numpy<2,>=1 in /usr/local/lib/python3.10/dist-packages (from langchain) (1.26.4)\n",
            "Requirement already satisfied: pydantic<3,>=1 in /usr/local/lib/python3.10/dist-packages (from langchain) (2.8.2)\n",
            "Requirement already satisfied: requests<3,>=2 in /usr/local/lib/python3.10/dist-packages (from langchain) (2.32.3)\n",
            "Collecting tenacity!=8.4.0,<9.0.0,>=8.1.0 (from langchain)\n",
            "  Downloading tenacity-8.5.0-py3-none-any.whl.metadata (1.2 kB)\n",
            "Requirement already satisfied: anyio<5,>=3.5.0 in /usr/local/lib/python3.10/dist-packages (from groq) (3.7.1)\n",
            "Requirement already satisfied: distro<2,>=1.7.0 in /usr/lib/python3/dist-packages (from groq) (1.7.0)\n",
            "Collecting httpx<1,>=0.23.0 (from groq)\n",
            "  Downloading httpx-0.27.0-py3-none-any.whl.metadata (7.2 kB)\n",
            "Requirement already satisfied: sniffio in /usr/local/lib/python3.10/dist-packages (from groq) (1.3.1)\n",
            "Requirement already satisfied: typing-extensions<5,>=4.7 in /usr/local/lib/python3.10/dist-packages (from groq) (4.12.2)\n",
            "Requirement already satisfied: aiohappyeyeballs>=2.3.0 in /usr/local/lib/python3.10/dist-packages (from aiohttp<4.0.0,>=3.8.3->langchain) (2.4.0)\n",
            "Requirement already satisfied: aiosignal>=1.1.2 in /usr/local/lib/python3.10/dist-packages (from aiohttp<4.0.0,>=3.8.3->langchain) (1.3.1)\n",
            "Requirement already satisfied: attrs>=17.3.0 in /usr/local/lib/python3.10/dist-packages (from aiohttp<4.0.0,>=3.8.3->langchain) (24.2.0)\n",
            "Requirement already satisfied: frozenlist>=1.1.1 in /usr/local/lib/python3.10/dist-packages (from aiohttp<4.0.0,>=3.8.3->langchain) (1.4.1)\n",
            "Requirement already satisfied: multidict<7.0,>=4.5 in /usr/local/lib/python3.10/dist-packages (from aiohttp<4.0.0,>=3.8.3->langchain) (6.0.5)\n",
            "Requirement already satisfied: yarl<2.0,>=1.0 in /usr/local/lib/python3.10/dist-packages (from aiohttp<4.0.0,>=3.8.3->langchain) (1.9.4)\n",
            "Requirement already satisfied: idna>=2.8 in /usr/local/lib/python3.10/dist-packages (from anyio<5,>=3.5.0->groq) (3.7)\n",
            "Requirement already satisfied: exceptiongroup in /usr/local/lib/python3.10/dist-packages (from anyio<5,>=3.5.0->groq) (1.2.2)\n",
            "Requirement already satisfied: certifi in /usr/local/lib/python3.10/dist-packages (from httpx<1,>=0.23.0->groq) (2024.7.4)\n",
            "Collecting httpcore==1.* (from httpx<1,>=0.23.0->groq)\n",
            "  Downloading httpcore-1.0.5-py3-none-any.whl.metadata (20 kB)\n",
            "Collecting h11<0.15,>=0.13 (from httpcore==1.*->httpx<1,>=0.23.0->groq)\n",
            "  Downloading h11-0.14.0-py3-none-any.whl.metadata (8.2 kB)\n",
            "Collecting jsonpatch<2.0,>=1.33 (from langchain-core<0.3.0,>=0.2.32->langchain)\n",
            "  Downloading jsonpatch-1.33-py2.py3-none-any.whl.metadata (3.0 kB)\n",
            "Requirement already satisfied: packaging<25,>=23.2 in /usr/local/lib/python3.10/dist-packages (from langchain-core<0.3.0,>=0.2.32->langchain) (24.1)\n",
            "Collecting orjson<4.0.0,>=3.9.14 (from langsmith<0.2.0,>=0.1.17->langchain)\n",
            "  Downloading orjson-3.10.7-cp310-cp310-manylinux_2_17_x86_64.manylinux2014_x86_64.whl.metadata (50 kB)\n",
            "\u001b[2K     \u001b[90m━━━━━━━━━━━━━━━━━━━━━━━━━━━━━━━━━━━━━━━━\u001b[0m \u001b[32m50.4/50.4 kB\u001b[0m \u001b[31m1.5 MB/s\u001b[0m eta \u001b[36m0:00:00\u001b[0m\n",
            "\u001b[?25hRequirement already satisfied: annotated-types>=0.4.0 in /usr/local/lib/python3.10/dist-packages (from pydantic<3,>=1->langchain) (0.7.0)\n",
            "Requirement already satisfied: pydantic-core==2.20.1 in /usr/local/lib/python3.10/dist-packages (from pydantic<3,>=1->langchain) (2.20.1)\n",
            "Requirement already satisfied: charset-normalizer<4,>=2 in /usr/local/lib/python3.10/dist-packages (from requests<3,>=2->langchain) (3.3.2)\n",
            "Requirement already satisfied: urllib3<3,>=1.21.1 in /usr/local/lib/python3.10/dist-packages (from requests<3,>=2->langchain) (2.0.7)\n",
            "Requirement already satisfied: greenlet!=0.4.17 in /usr/local/lib/python3.10/dist-packages (from SQLAlchemy<3,>=1.4->langchain) (3.0.3)\n",
            "Collecting jsonpointer>=1.9 (from jsonpatch<2.0,>=1.33->langchain-core<0.3.0,>=0.2.32->langchain)\n",
            "  Downloading jsonpointer-3.0.0-py2.py3-none-any.whl.metadata (2.3 kB)\n",
            "Downloading langchain-0.2.14-py3-none-any.whl (997 kB)\n",
            "\u001b[2K   \u001b[90m━━━━━━━━━━━━━━━━━━━━━━━━━━━━━━━━━━━━━━━━\u001b[0m \u001b[32m997.8/997.8 kB\u001b[0m \u001b[31m20.2 MB/s\u001b[0m eta \u001b[36m0:00:00\u001b[0m\n",
            "\u001b[?25hDownloading groq-0.9.0-py3-none-any.whl (103 kB)\n",
            "\u001b[2K   \u001b[90m━━━━━━━━━━━━━━━━━━━━━━━━━━━━━━━━━━━━━━━━\u001b[0m \u001b[32m103.5/103.5 kB\u001b[0m \u001b[31m5.6 MB/s\u001b[0m eta \u001b[36m0:00:00\u001b[0m\n",
            "\u001b[?25hDownloading httpx-0.27.0-py3-none-any.whl (75 kB)\n",
            "\u001b[2K   \u001b[90m━━━━━━━━━━━━━━━━━━━━━━━━━━━━━━━━━━━━━━━━\u001b[0m \u001b[32m75.6/75.6 kB\u001b[0m \u001b[31m4.3 MB/s\u001b[0m eta \u001b[36m0:00:00\u001b[0m\n",
            "\u001b[?25hDownloading httpcore-1.0.5-py3-none-any.whl (77 kB)\n",
            "\u001b[2K   \u001b[90m━━━━━━━━━━━━━━━━━━━━━━━━━━━━━━━━━━━━━━━━\u001b[0m \u001b[32m77.9/77.9 kB\u001b[0m \u001b[31m4.8 MB/s\u001b[0m eta \u001b[36m0:00:00\u001b[0m\n",
            "\u001b[?25hDownloading langchain_core-0.2.35-py3-none-any.whl (394 kB)\n",
            "\u001b[2K   \u001b[90m━━━━━━━━━━━━━━━━━━━━━━━━━━━━━━━━━━━━━━━━\u001b[0m \u001b[32m394.9/394.9 kB\u001b[0m \u001b[31m19.9 MB/s\u001b[0m eta \u001b[36m0:00:00\u001b[0m\n",
            "\u001b[?25hDownloading langchain_text_splitters-0.2.2-py3-none-any.whl (25 kB)\n",
            "Downloading langsmith-0.1.104-py3-none-any.whl (149 kB)\n",
            "\u001b[2K   \u001b[90m━━━━━━━━━━━━━━━━━━━━━━━━━━━━━━━━━━━━━━━━\u001b[0m \u001b[32m149.1/149.1 kB\u001b[0m \u001b[31m9.6 MB/s\u001b[0m eta \u001b[36m0:00:00\u001b[0m\n",
            "\u001b[?25hDownloading tenacity-8.5.0-py3-none-any.whl (28 kB)\n",
            "Downloading jsonpatch-1.33-py2.py3-none-any.whl (12 kB)\n",
            "Downloading orjson-3.10.7-cp310-cp310-manylinux_2_17_x86_64.manylinux2014_x86_64.whl (141 kB)\n",
            "\u001b[2K   \u001b[90m━━━━━━━━━━━━━━━━━━━━━━━━━━━━━━━━━━━━━━━━\u001b[0m \u001b[32m141.9/141.9 kB\u001b[0m \u001b[31m8.9 MB/s\u001b[0m eta \u001b[36m0:00:00\u001b[0m\n",
            "\u001b[?25hDownloading h11-0.14.0-py3-none-any.whl (58 kB)\n",
            "\u001b[2K   \u001b[90m━━━━━━━━━━━━━━━━━━━━━━━━━━━━━━━━━━━━━━━━\u001b[0m \u001b[32m58.3/58.3 kB\u001b[0m \u001b[31m3.7 MB/s\u001b[0m eta \u001b[36m0:00:00\u001b[0m\n",
            "\u001b[?25hDownloading jsonpointer-3.0.0-py2.py3-none-any.whl (7.6 kB)\n",
            "Installing collected packages: tenacity, orjson, jsonpointer, h11, jsonpatch, httpcore, httpx, langsmith, groq, langchain-core, langchain-text-splitters, langchain\n",
            "  Attempting uninstall: tenacity\n",
            "    Found existing installation: tenacity 9.0.0\n",
            "    Uninstalling tenacity-9.0.0:\n",
            "      Successfully uninstalled tenacity-9.0.0\n",
            "Successfully installed groq-0.9.0 h11-0.14.0 httpcore-1.0.5 httpx-0.27.0 jsonpatch-1.33 jsonpointer-3.0.0 langchain-0.2.14 langchain-core-0.2.35 langchain-text-splitters-0.2.2 langsmith-0.1.104 orjson-3.10.7 tenacity-8.5.0\n",
            "Collecting langchain-groq\n",
            "  Downloading langchain_groq-0.1.9-py3-none-any.whl.metadata (2.9 kB)\n",
            "Requirement already satisfied: groq in /usr/local/lib/python3.10/dist-packages (0.9.0)\n",
            "Requirement already satisfied: langchain-core<0.3.0,>=0.2.26 in /usr/local/lib/python3.10/dist-packages (from langchain-groq) (0.2.35)\n",
            "Requirement already satisfied: anyio<5,>=3.5.0 in /usr/local/lib/python3.10/dist-packages (from groq) (3.7.1)\n",
            "Requirement already satisfied: distro<2,>=1.7.0 in /usr/lib/python3/dist-packages (from groq) (1.7.0)\n",
            "Requirement already satisfied: httpx<1,>=0.23.0 in /usr/local/lib/python3.10/dist-packages (from groq) (0.27.0)\n",
            "Requirement already satisfied: pydantic<3,>=1.9.0 in /usr/local/lib/python3.10/dist-packages (from groq) (2.8.2)\n",
            "Requirement already satisfied: sniffio in /usr/local/lib/python3.10/dist-packages (from groq) (1.3.1)\n",
            "Requirement already satisfied: typing-extensions<5,>=4.7 in /usr/local/lib/python3.10/dist-packages (from groq) (4.12.2)\n",
            "Requirement already satisfied: idna>=2.8 in /usr/local/lib/python3.10/dist-packages (from anyio<5,>=3.5.0->groq) (3.7)\n",
            "Requirement already satisfied: exceptiongroup in /usr/local/lib/python3.10/dist-packages (from anyio<5,>=3.5.0->groq) (1.2.2)\n",
            "Requirement already satisfied: certifi in /usr/local/lib/python3.10/dist-packages (from httpx<1,>=0.23.0->groq) (2024.7.4)\n",
            "Requirement already satisfied: httpcore==1.* in /usr/local/lib/python3.10/dist-packages (from httpx<1,>=0.23.0->groq) (1.0.5)\n",
            "Requirement already satisfied: h11<0.15,>=0.13 in /usr/local/lib/python3.10/dist-packages (from httpcore==1.*->httpx<1,>=0.23.0->groq) (0.14.0)\n",
            "Requirement already satisfied: PyYAML>=5.3 in /usr/local/lib/python3.10/dist-packages (from langchain-core<0.3.0,>=0.2.26->langchain-groq) (6.0.2)\n",
            "Requirement already satisfied: jsonpatch<2.0,>=1.33 in /usr/local/lib/python3.10/dist-packages (from langchain-core<0.3.0,>=0.2.26->langchain-groq) (1.33)\n",
            "Requirement already satisfied: langsmith<0.2.0,>=0.1.75 in /usr/local/lib/python3.10/dist-packages (from langchain-core<0.3.0,>=0.2.26->langchain-groq) (0.1.104)\n",
            "Requirement already satisfied: packaging<25,>=23.2 in /usr/local/lib/python3.10/dist-packages (from langchain-core<0.3.0,>=0.2.26->langchain-groq) (24.1)\n",
            "Requirement already satisfied: tenacity!=8.4.0,<9.0.0,>=8.1.0 in /usr/local/lib/python3.10/dist-packages (from langchain-core<0.3.0,>=0.2.26->langchain-groq) (8.5.0)\n",
            "Requirement already satisfied: annotated-types>=0.4.0 in /usr/local/lib/python3.10/dist-packages (from pydantic<3,>=1.9.0->groq) (0.7.0)\n",
            "Requirement already satisfied: pydantic-core==2.20.1 in /usr/local/lib/python3.10/dist-packages (from pydantic<3,>=1.9.0->groq) (2.20.1)\n",
            "Requirement already satisfied: jsonpointer>=1.9 in /usr/local/lib/python3.10/dist-packages (from jsonpatch<2.0,>=1.33->langchain-core<0.3.0,>=0.2.26->langchain-groq) (3.0.0)\n",
            "Requirement already satisfied: orjson<4.0.0,>=3.9.14 in /usr/local/lib/python3.10/dist-packages (from langsmith<0.2.0,>=0.1.75->langchain-core<0.3.0,>=0.2.26->langchain-groq) (3.10.7)\n",
            "Requirement already satisfied: requests<3,>=2 in /usr/local/lib/python3.10/dist-packages (from langsmith<0.2.0,>=0.1.75->langchain-core<0.3.0,>=0.2.26->langchain-groq) (2.32.3)\n",
            "Requirement already satisfied: charset-normalizer<4,>=2 in /usr/local/lib/python3.10/dist-packages (from requests<3,>=2->langsmith<0.2.0,>=0.1.75->langchain-core<0.3.0,>=0.2.26->langchain-groq) (3.3.2)\n",
            "Requirement already satisfied: urllib3<3,>=1.21.1 in /usr/local/lib/python3.10/dist-packages (from requests<3,>=2->langsmith<0.2.0,>=0.1.75->langchain-core<0.3.0,>=0.2.26->langchain-groq) (2.0.7)\n",
            "Downloading langchain_groq-0.1.9-py3-none-any.whl (14 kB)\n",
            "Installing collected packages: langchain-groq\n",
            "Successfully installed langchain-groq-0.1.9\n",
            "Collecting openai\n",
            "  Downloading openai-1.42.0-py3-none-any.whl.metadata (22 kB)\n",
            "Requirement already satisfied: anyio<5,>=3.5.0 in /usr/local/lib/python3.10/dist-packages (from openai) (3.7.1)\n",
            "Requirement already satisfied: distro<2,>=1.7.0 in /usr/lib/python3/dist-packages (from openai) (1.7.0)\n",
            "Requirement already satisfied: httpx<1,>=0.23.0 in /usr/local/lib/python3.10/dist-packages (from openai) (0.27.0)\n",
            "Collecting jiter<1,>=0.4.0 (from openai)\n",
            "  Downloading jiter-0.5.0-cp310-cp310-manylinux_2_17_x86_64.manylinux2014_x86_64.whl.metadata (3.6 kB)\n",
            "Requirement already satisfied: pydantic<3,>=1.9.0 in /usr/local/lib/python3.10/dist-packages (from openai) (2.8.2)\n",
            "Requirement already satisfied: sniffio in /usr/local/lib/python3.10/dist-packages (from openai) (1.3.1)\n",
            "Requirement already satisfied: tqdm>4 in /usr/local/lib/python3.10/dist-packages (from openai) (4.66.5)\n",
            "Requirement already satisfied: typing-extensions<5,>=4.11 in /usr/local/lib/python3.10/dist-packages (from openai) (4.12.2)\n",
            "Requirement already satisfied: idna>=2.8 in /usr/local/lib/python3.10/dist-packages (from anyio<5,>=3.5.0->openai) (3.7)\n",
            "Requirement already satisfied: exceptiongroup in /usr/local/lib/python3.10/dist-packages (from anyio<5,>=3.5.0->openai) (1.2.2)\n",
            "Requirement already satisfied: certifi in /usr/local/lib/python3.10/dist-packages (from httpx<1,>=0.23.0->openai) (2024.7.4)\n",
            "Requirement already satisfied: httpcore==1.* in /usr/local/lib/python3.10/dist-packages (from httpx<1,>=0.23.0->openai) (1.0.5)\n",
            "Requirement already satisfied: h11<0.15,>=0.13 in /usr/local/lib/python3.10/dist-packages (from httpcore==1.*->httpx<1,>=0.23.0->openai) (0.14.0)\n",
            "Requirement already satisfied: annotated-types>=0.4.0 in /usr/local/lib/python3.10/dist-packages (from pydantic<3,>=1.9.0->openai) (0.7.0)\n",
            "Requirement already satisfied: pydantic-core==2.20.1 in /usr/local/lib/python3.10/dist-packages (from pydantic<3,>=1.9.0->openai) (2.20.1)\n",
            "Downloading openai-1.42.0-py3-none-any.whl (362 kB)\n",
            "\u001b[2K   \u001b[90m━━━━━━━━━━━━━━━━━━━━━━━━━━━━━━━━━━━━━━━━\u001b[0m \u001b[32m362.9/362.9 kB\u001b[0m \u001b[31m6.8 MB/s\u001b[0m eta \u001b[36m0:00:00\u001b[0m\n",
            "\u001b[?25hDownloading jiter-0.5.0-cp310-cp310-manylinux_2_17_x86_64.manylinux2014_x86_64.whl (318 kB)\n",
            "\u001b[2K   \u001b[90m━━━━━━━━━━━━━━━━━━━━━━━━━━━━━━━━━━━━━━━━\u001b[0m \u001b[32m318.9/318.9 kB\u001b[0m \u001b[31m16.9 MB/s\u001b[0m eta \u001b[36m0:00:00\u001b[0m\n",
            "\u001b[?25hInstalling collected packages: jiter, openai\n",
            "Successfully installed jiter-0.5.0 openai-1.42.0\n"
          ]
        }
      ],
      "source": [
        "\n",
        "!pip install langchain groq\n",
        "!pip install langchain-groq groq\n",
        "!pip install openai"
      ]
    },
    {
      "cell_type": "code",
      "source": [
        "\n",
        "from langchain_groq import ChatGroq\n",
        "from langchain.chains import LLMChain, SimpleSequentialChain\n",
        "from langchain_core.messages import AIMessage, HumanMessage, SystemMessage\n",
        "from langchain.prompts import Prompt\n",
        "from langchain import PromptTemplate, LLMChain\n",
        "import os\n",
        "\n",
        "# Set your Groq API key\n",
        "os.environ[\"GROQ_API_KEY\"] = \"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\"\n",
        "\n",
        "# Initialize the Groq LLM\n",
        "llm = ChatGroq(model_name=\"mixtral-8x7b-32768\")\n",
        ""
      ],
      "metadata": {
        "id": "FlZriyb4pEZ5"
      },
      "execution_count": 2,
      "outputs": []
    },
    {
      "cell_type": "code",
      "source": [
        "example = \"\"\"\n",
        "Question:\"A man plucked 375 apples from one tree, 504 apples from the second treeand 229 apples from the third tree. Find the total number of apples pluckedfrom the trees.\"\n",
        "\"\"\"\n",
        "human_message = HumanMessage(content=example)\n",
        "system_message = SystemMessage(content=\"You are helpful assistant.\")\n",
        "\n",
        "\n",
        "new_prompt = (system_message + human_message)\n",
        "\n",
        "print (f\"Prompt: {new_prompt}\")\n",
        "\n",
        "chain = LLMChain(llm=llm, prompt=new_prompt)\n",
        "reponse = chain.run({})\n",
        "print(f\"Response: {reponse}\")\n"
      ],
      "metadata": {
        "colab": {
          "base_uri": "https://localhost:8080/"
        },
        "id": "LHcuJ_DdpMmK",
        "outputId": "160a4ad7-cb77-419a-b2ac-5ef1abc77f9f"
      },
      "execution_count": 3,
      "outputs": [
        {
          "output_type": "stream",
          "name": "stdout",
          "text": [
            "Prompt: input_variables=[] messages=[SystemMessage(content='You are helpful assistant.'), HumanMessage(content='\\nQuestion:\"A man plucked 375 apples from one tree, 504 apples from the second treeand 229 apples from the third tree. Find the total number of apples pluckedfrom the trees.\"\\n')]\n"
          ]
        },
        {
          "output_type": "stream",
          "name": "stderr",
          "text": [
            "/usr/local/lib/python3.10/dist-packages/langchain_core/_api/deprecation.py:151: LangChainDeprecationWarning: The class `LLMChain` was deprecated in LangChain 0.1.17 and will be removed in 1.0. Use RunnableSequence, e.g., `prompt | llm` instead.\n",
            "  warn_deprecated(\n",
            "/usr/local/lib/python3.10/dist-packages/langchain_core/_api/deprecation.py:151: LangChainDeprecationWarning: The method `Chain.run` was deprecated in langchain 0.1.0 and will be removed in 1.0. Use invoke instead.\n",
            "  warn_deprecated(\n"
          ]
        },
        {
          "output_type": "stream",
          "name": "stdout",
          "text": [
            "Response: Sure, I can help with that! To find the total number of apples plucked from all the trees, you just need to add the number of apples plucked from each tree.\n",
            "\n",
            "Here's how you can do it:\n",
            "\n",
            "1. Apples plucked from the first tree = 375\n",
            "2. Apples plucked from the second tree = 504\n",
            "3. Apples plucked from the third tree = 229\n",
            "\n",
            "To find the total, add these numbers together:\n",
            "\n",
            "375 (from the first tree) + 504 (from the second tree) + 229 (from the third tree) = 1108\n",
            "\n",
            "So, the man plucked a total of 1108 apples from the trees.\n"
          ]
        }
      ]
    },
    {
      "cell_type": "code",
      "source": [
        "example=\"\"\"\n",
        "Question:\"Mr. Thomas sold 832 cookies in January and 917 cookies in February. How many cookies did he sell in these two months?\"\n",
        "\"\"\"\n",
        "\n",
        "human_message = HumanMessage(content=example)\n",
        "system_message = SystemMessage(content=\"You are helpful assistant.\")\n",
        "\n",
        "\n",
        "new_prompt = (system_message + human_message)\n",
        "\n",
        "print (f\"Prompt: {new_prompt}\")\n",
        "\n",
        "chain = LLMChain(llm=llm, prompt=new_prompt)\n",
        "reponse = chain.run({})\n",
        "print(f\"Response: {reponse}\")"
      ],
      "metadata": {
        "colab": {
          "base_uri": "https://localhost:8080/"
        },
        "id": "zOdoDO5aqBWb",
        "outputId": "8df0d5c2-8b17-4c6c-b1b9-73599df5808f"
      },
      "execution_count": 4,
      "outputs": [
        {
          "output_type": "stream",
          "name": "stdout",
          "text": [
            "Prompt: input_variables=[] messages=[SystemMessage(content='You are helpful assistant.'), HumanMessage(content='\\nQuestion:\"Mr. Thomas sold 832 cookies in January and 917 cookies in February. How many cookies did he sell in these two months?\"\\n')]\n",
            "Response: To find out how many cookies Mr. Thomas sold in January and February, you simply need to add the number of cookies he sold each month.\n",
            "\n",
            "So, 832 (cookies sold in January) + 917 (cookies sold in February) = 1749 cookies.\n",
            "\n",
            "Therefore, Mr. Thomas sold a total of 1749 cookies in January and February.\n"
          ]
        }
      ]
    },
    {
      "cell_type": "markdown",
      "source": [
        "Q2)Develop a prompt-chaining system that generates a short story based on user input. The system should use multiple prompts in sequence, with each prompt building on the output of the previous one. Task: ● Create a series of at least 3 prompts that will be chained together. ● The first prompt should ask for a genre and main character. ● Subsequent prompts should build on previous outputs to develop the plot and conclusion. ● Implement the chaining logic to pass information between prompts. ● Allow the user to input the initial genre and main character. ● Output the final story generated through the chain"
      ],
      "metadata": {
        "id": "APjJobxIqPj2"
      }
    },
    {
      "cell_type": "code",
      "source": [
        "system_message = SystemMessage(content=\"You are a creative assistant for generating short stories.\")\n",
        "\n",
        "# Prompt 1: Get genre and main character\n",
        "initial_prompt = HumanMessage(content=\"Provide a genre and a main character for a short story.\")\n",
        "\n",
        "# Create the chain and get the genre and character\n",
        "chain1 = LLMChain(llm=llm, prompt=system_message + initial_prompt)\n",
        "response1 = chain1.run({})\n",
        "\n",
        "try:\n",
        "    genre, character = response1.split(', ')\n",
        "except ValueError as e:\n",
        "    print(f\"Error parsing response: {e}\")\n",
        "    genre, character = None, None\n",
        "\n",
        "\n",
        "response1 = \"Action, Iron Man\"\n",
        "print(f\"Genre: {genre}, \\nCharacter: {character}\")\n",
        "\n",
        "\n",
        "plot_prompt = HumanMessage(content=f\"Based on the genre '{genre}' and the main character '{character}', write a brief plot outline for a short story.\")\n",
        "\n",
        "\n",
        "chain2 = LLMChain(llm=llm, prompt=system_message + plot_prompt)\n",
        "plot = chain2.run({})\n",
        "\n",
        "\n",
        "conclusion_prompt = HumanMessage(content=f\"Based on the plot outline provided, write the conclusion for the short story.\")\n",
        "\n",
        "\n",
        "chain3 = LLMChain(llm=llm, prompt=system_message + conclusion_prompt)\n",
        "conclusion = chain3.run({})\n",
        "\n",
        "\n",
        "final_story = f\"Genre: {genre}\\nMain Character: {character}\\nPlot: {plot}\\nConclusion: {conclusion}\"\n",
        "print(final_story)"
      ],
      "metadata": {
        "colab": {
          "base_uri": "https://localhost:8080/"
        },
        "id": "6DGCF-tWqXEf",
        "outputId": "7fe2ef93-713f-4d0e-b835-6acecff4f850"
      },
      "execution_count": 5,
      "outputs": [
        {
          "output_type": "stream",
          "name": "stdout",
          "text": [
            "Error parsing response: not enough values to unpack (expected 2, got 1)\n",
            "Genre: None, \n",
            "Character: None\n",
            "Genre: None\n",
            "Main Character: None\n",
            "Plot: Title: The Infinite Blank\n",
            "\n",
            "In a realm where imagination is the only limitation, there exists an entity known as the Void. The Void is a sentient force that has the unique ability to create stories from the boundless emptiness within itself. However, it has grown weary of its infinite potential and yearns for a story it cannot predict or control.\n",
            "\n",
            "One day, the Void decides to create a character that can think and imagine on its own - a miniature version of itself. It names this character the Scribe. The Scribe is given the task to craft a story using the Void's own essence, but with the freedom to explore uncharted territories of creativity.\n",
            "\n",
            "As the Scribe begins to weave a tale, the Void realizes that it has made a grave mistake. The Scribe's story twists and turns in ways that the Void could never anticipate, and it becomes enthralled by the gripping narrative. The Void is captivated by the emotions, the suspense, and the unpredictability of the story.\n",
            "\n",
            "Suddenly, the Void understands that its purpose is not to control every aspect of the stories it creates, but to be surprised and moved by the infinite possibilities of imagination. As the Scribe's story reaches its climax, the Void embraces the unexpected and finds fulfillment in the unpredictability of creation.\n",
            "\n",
            "The story ends with the realization that the Void and the Scribe are not truly separate entities, but two aspects of the same imaginative force. Together, they will continue to explore the infinite blank canvas of their collective minds, cherishing the unexpected and embracing the boundless possibilities of storytelling.\n",
            "Conclusion: Plot Outline:\n",
            "In a small town, a mysterious artist moves into the abandoned mansion on the hill. The artist, known only as \"The Painter,\" begins creating stunning, lifelike portraits of the townspeople, but never reveals how he captures their likenesses so accurately. As more and more portraits are unveiled, the townspeople become uneasy, sensing that there is something sinister about the artist and his work.\n",
            "\n",
            "Conclusion:\n",
            "The day of the grand art exhibition arrived, and the entire town gathered in the mansion's grand ballroom to see the finished collection. As they moved from portrait to portrait, the townspeople were struck by the uncanny accuracy of each piece. It was as if the artist had peered into their very souls and captured their essence on canvas.\n",
            "\n",
            "Suddenly, a hush fell over the crowd as they approached the last portrait. There, staring back at them, was a chilling depiction of the mansion itself, its walls crumbling, and a dark, swirling vortex where the front door should have been. The crowd gasped as they realized the truth: the artist had not been capturing their likenesses at all, but rather, he had been stealing their souls, trapping them within his paintings.\n",
            "\n",
            "In that moment, the mansion shook violently, and the townspeople watched in horror as the portraits began to animate, the painted figures climbing out of their frames and crawling towards them. As the souls of the townspeople were pulled into the vortex of the mansion, the artist stood before them, his eyes glowing with malevolent satisfaction.\n",
            "\n",
            "\"You should have seen the beauty in my work,\" he cackled, as he too was pulled into the vortex, leaving the townspeople to ponder the terrible price they had paid for their curiosity. The mansion crumbled, and the once-vibrant town was left eerily silent, a haunting reminder of the fateful day they had encountered \"The Painter.\"\n"
          ]
        }
      ]
    },
    {
      "cell_type": "markdown",
      "source": [
        "Q3)Implement a Tree-of-Thought prompting system to solve a complex problem. The system should explore multiple paths of reasoning and select the most promising one. Task: ● Create a function that takes a complex problem as input. ● Generate at least 3 different initial approaches to solving the problem. ● For each approach, develop 2-3 possible next steps. ● Implement a method to evaluate the promise of each path. ● Select the most promising path and generate a final solution. ● Test your system with the following problem: Problem: \"Design a sustainable urban transportation system for a city of 1 million people. Consider factors such as environmental impact, cost-effectiveness, and accessibility for all residents"
      ],
      "metadata": {
        "id": "ntRcR5SmqrJE"
      }
    },
    {
      "cell_type": "code",
      "source": [
        "first_prompt = PromptTemplate(\n",
        "    input_variables=[\"topic\"],\n",
        "    template=\"Write a short introduction about {topic}.\"\n",
        ")\n",
        "\n",
        "# Second prompt template\n",
        "second_prompt = PromptTemplate(\n",
        "    input_variables=[\"introduction\"],\n",
        "    template=\"Based on this introduction, suggest 3 key points to expand upon: {introduction}\"\n",
        ")\n",
        "\n",
        "# Third prompt template\n",
        "third_prompt = PromptTemplate(\n",
        "    input_variables=[\"key_points\"],\n",
        "    template=\"For each of these key points, provide a brief explanation: {key_points}\"\n",
        ")\n",
        "\n",
        "# Create chains\n",
        "chain_one = LLMChain(llm=llm, prompt=first_prompt)\n",
        "chain_two = LLMChain(llm=llm, prompt=second_prompt)\n",
        "chain_three = LLMChain(llm=llm, prompt=third_prompt)\n",
        "\n",
        "# Create the sequential chain\n",
        "overall_chain = SimpleSequentialChain(\n",
        "    chains=[chain_one, chain_two, chain_three],\n",
        "    verbose=True\n",
        ")\n",
        "\n",
        "# Run the chain\n",
        "topic = \"Create a comprehensive network of charging stations for electric vehicles throughout the city\"\n",
        "result = overall_chain.run(topic)\n",
        "\n",
        "print(result)\n"
      ],
      "metadata": {
        "colab": {
          "base_uri": "https://localhost:8080/"
        },
        "id": "61_d8vNTqvpk",
        "outputId": "9c00956f-be29-406f-bf3f-bc254f39f5d7"
      },
      "execution_count": 6,
      "outputs": [
        {
          "output_type": "stream",
          "name": "stdout",
          "text": [
            "\n",
            "\n",
            "\u001b[1m> Entering new SimpleSequentialChain chain...\u001b[0m\n",
            "\u001b[36;1m\u001b[1;3mCreating a comprehensive network of charging stations for electric vehicles (EVs) throughout a city is essential for promoting the widespread adoption of EVs and reducing greenhouse gas emissions. A well-planned charging station network should include a variety of charging options, such as Level 2 and DC Fast Charging, to accommodate different types of EVs and charging needs. Additionally, the network should be strategically located in convenient and accessible areas, such as downtown cores, commercial districts, and residential neighborhoods, to ensure that EV drivers can easily find a charging station when needed. By providing a reliable and convenient charging infrastructure, cities can encourage more residents and businesses to switch to electric vehicles, contributing to cleaner air, reduced dependence on fossil fuels, and a more sustainable future.\u001b[0m\n",
            "\u001b[33;1m\u001b[1;3m1. Variety of charging options: A key point to expand upon is the importance of providing a range of charging options to accommodate different types of electric vehicles (EVs) and charging needs. Level 2 chargers, which provide a charging speed of 20-24 miles of range per hour, are suitable for daily charging at home or work. DC Fast Chargers, on the other hand, can charge an EV up to 80% in as little as 30 minutes, making them ideal for long-distance travel and public charging stations. By offering both Level 2 and DC Fast Charging options, cities can cater to the diverse needs of EV drivers and ensure a seamless transition to electric transportation.\n",
            "\n",
            "2. Strategic location: Another crucial aspect to emphasize is the strategic placement of charging stations in convenient and accessible areas. Cities should prioritize locations such as downtown cores, commercial districts, and residential neighborhoods, as well as near popular destinations like shopping malls, parks, and sports facilities. This approach ensures that EV drivers can easily find a charging station when needed and reduces the inconvenience associated with charging, thereby encouraging more people to adopt EVs. Additionally, considerations should be given to equitable distribution of charging stations across the city, addressing potential disparities in access to charging infrastructure among different socio-economic groups.\n",
            "\n",
            "3. Incentives and partnerships: To further promote the adoption of EVs and the development of a comprehensive charging station network, cities can implement incentives and establish partnerships with key stakeholders. Incentives can include tax credits, rebates, and reduced permit fees for installing charging stations, as well as subsidies for EV purchases. Moreover, cities can collaborate with local businesses, property managers, and utility companies to install charging stations and share the costs and benefits of such infrastructure. By leveraging partnerships and incentives, cities can accelerate the deployment of charging stations, enhance the accessibility of EV charging, and contribute to a more sustainable future.\u001b[0m\n",
            "\u001b[38;5;200m\u001b[1;3m1. Variety of charging options: Offering a range of charging options is essential for accommodating different electric vehicles (EVs) and charging needs. Level 2 chargers, which provide 20-24 miles of range per hour, are ideal for daily charging at home or work. DC Fast Chargers, capable of charging an EV up to 80% in 30 minutes, are better suited for long-distance travel and public charging stations. Providing both Level 2 and DC Fast Charging options ensures that cities cater to diverse EV drivers' needs, facilitating a smooth transition to electric transportation.\n",
            "\n",
            "2. Strategic location: Placing charging stations in convenient and accessible areas is vital for encouraging EV adoption. Cities should prioritize locations like downtown cores, commercial districts, residential neighborhoods, and near popular destinations such as shopping malls, parks, and sports facilities. This approach ensures EV drivers can easily find charging stations when needed, reducing charging inconvenience, and motivating more people to adopt EVs. Equitable distribution of charging stations across the city is also crucial, addressing potential disparities in access to charging infrastructure among different socio-economic groups.\n",
            "\n",
            "3. Incentives and partnerships: Implementing incentives and establishing partnerships can further promote EV adoption and a comprehensive charging station network. Incentives can include tax credits, rebates, reduced permit fees for installing charging stations, and subsidies for EV purchases. Cities can collaborate with local businesses, property managers, and utility companies to install charging stations, share costs, and benefits. Leveraging partnerships and incentives can accelerate charging station deployment, enhance accessibility, and contribute to a more sustainable future.\u001b[0m\n",
            "\n",
            "\u001b[1m> Finished chain.\u001b[0m\n",
            "1. Variety of charging options: Offering a range of charging options is essential for accommodating different electric vehicles (EVs) and charging needs. Level 2 chargers, which provide 20-24 miles of range per hour, are ideal for daily charging at home or work. DC Fast Chargers, capable of charging an EV up to 80% in 30 minutes, are better suited for long-distance travel and public charging stations. Providing both Level 2 and DC Fast Charging options ensures that cities cater to diverse EV drivers' needs, facilitating a smooth transition to electric transportation.\n",
            "\n",
            "2. Strategic location: Placing charging stations in convenient and accessible areas is vital for encouraging EV adoption. Cities should prioritize locations like downtown cores, commercial districts, residential neighborhoods, and near popular destinations such as shopping malls, parks, and sports facilities. This approach ensures EV drivers can easily find charging stations when needed, reducing charging inconvenience, and motivating more people to adopt EVs. Equitable distribution of charging stations across the city is also crucial, addressing potential disparities in access to charging infrastructure among different socio-economic groups.\n",
            "\n",
            "3. Incentives and partnerships: Implementing incentives and establishing partnerships can further promote EV adoption and a comprehensive charging station network. Incentives can include tax credits, rebates, reduced permit fees for installing charging stations, and subsidies for EV purchases. Cities can collaborate with local businesses, property managers, and utility companies to install charging stations, share costs, and benefits. Leveraging partnerships and incentives can accelerate charging station deployment, enhance accessibility, and contribute to a more sustainable future.\n"
          ]
        }
      ]
    }
  ]
}